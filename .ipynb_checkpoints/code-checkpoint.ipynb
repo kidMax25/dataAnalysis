{
 "cells": [
  {
   "cell_type": "code",
   "id": "initial_id",
   "metadata": {
    "collapsed": true,
    "ExecuteTime": {
     "end_time": "2024-06-03T15:05:32.794701Z",
     "start_time": "2024-06-03T15:04:44.129683Z"
    }
   },
   "source": [
    "import pandas as pd\n",
    "import matplotlib.pyplot as plt\n",
    "\n",
    "%matplotlib inline"
   ],
   "outputs": [
    {
     "name": "stderr",
     "output_type": "stream",
     "text": [
      "Matplotlib is building the font cache; this may take a moment.\n"
     ]
    }
   ],
   "execution_count": 1
  },
  {
   "metadata": {
    "ExecuteTime": {
     "end_time": "2024-06-03T15:24:03.731088Z",
     "start_time": "2024-06-03T15:24:03.667486Z"
    }
   },
   "cell_type": "code",
   "source": [
    "df = pd.read_csv(\"data/test.csv\")\n",
    "df = pd.DataFrame(df)"
   ],
   "id": "d62c4458983b67a",
   "outputs": [],
   "execution_count": 15
  },
  {
   "metadata": {
    "ExecuteTime": {
     "end_time": "2024-06-03T15:17:24.534571Z",
     "start_time": "2024-06-03T15:17:24.476956Z"
    }
   },
   "cell_type": "code",
   "source": [
    "# Run this cell without changes\n",
    "\n",
    "# Check that df is a dataframe\n",
    "assert type(df) == pd.DataFrame\n",
    "\n",
    "# Check that there are the correct number of rows\n",
    "assert df.shape[0] == 1460\n",
    "\n",
    "# Check that there are the correct number of columns\n",
    "# (if this crashes, make sure you specified `index_col=0`)\n",
    "assert df.shape[1] == 80"
   ],
   "id": "5e590a1b46445608",
   "outputs": [
    {
     "ename": "AssertionError",
     "evalue": "",
     "output_type": "error",
     "traceback": [
      "\u001B[1;31m---------------------------------------------------------------------------\u001B[0m",
      "\u001B[1;31mAssertionError\u001B[0m                            Traceback (most recent call last)",
      "Cell \u001B[1;32mIn[9], line 7\u001B[0m\n\u001B[0;32m      4\u001B[0m \u001B[38;5;28;01massert\u001B[39;00m \u001B[38;5;28mtype\u001B[39m(df) \u001B[38;5;241m==\u001B[39m pd\u001B[38;5;241m.\u001B[39mDataFrame\n\u001B[0;32m      6\u001B[0m \u001B[38;5;66;03m# Check that there are the correct number of rows\u001B[39;00m\n\u001B[1;32m----> 7\u001B[0m \u001B[38;5;28;01massert\u001B[39;00m df\u001B[38;5;241m.\u001B[39mshape[\u001B[38;5;241m0\u001B[39m] \u001B[38;5;241m==\u001B[39m \u001B[38;5;241m1460\u001B[39m\n\u001B[0;32m      9\u001B[0m \u001B[38;5;66;03m# Check that there are the correct number of columns\u001B[39;00m\n\u001B[0;32m     10\u001B[0m \u001B[38;5;66;03m# (if this crashes, make sure you specified `index_col=0`)\u001B[39;00m\n\u001B[0;32m     11\u001B[0m \u001B[38;5;28;01massert\u001B[39;00m df\u001B[38;5;241m.\u001B[39mshape[\u001B[38;5;241m1\u001B[39m] \u001B[38;5;241m==\u001B[39m \u001B[38;5;241m80\u001B[39m\n",
      "\u001B[1;31mAssertionError\u001B[0m: "
     ]
    }
   ],
   "execution_count": 9
  },
  {
   "metadata": {
    "ExecuteTime": {
     "end_time": "2024-06-03T15:24:10.411637Z",
     "start_time": "2024-06-03T15:24:10.395509Z"
    }
   },
   "cell_type": "code",
   "source": "df.shape[0]",
   "id": "1922d9330455b7e1",
   "outputs": [
    {
     "data": {
      "text/plain": [
       "1459"
      ]
     },
     "execution_count": 17,
     "metadata": {},
     "output_type": "execute_result"
    }
   ],
   "execution_count": 17
  }
 ],
 "metadata": {
  "kernelspec": {
   "display_name": "Python 3",
   "language": "python",
   "name": "python3"
  },
  "language_info": {
   "codemirror_mode": {
    "name": "ipython",
    "version": 2
   },
   "file_extension": ".py",
   "mimetype": "text/x-python",
   "name": "python",
   "nbconvert_exporter": "python",
   "pygments_lexer": "ipython2",
   "version": "2.7.6"
  }
 },
 "nbformat": 4,
 "nbformat_minor": 5
}
